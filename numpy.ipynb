{
 "cells": [
  {
   "cell_type": "code",
   "execution_count": 1,
   "metadata": {},
   "outputs": [],
   "source": [
    "import numpy as np"
   ]
  },
  {
   "cell_type": "code",
   "execution_count": 6,
   "metadata": {},
   "outputs": [
    {
     "name": "stdout",
     "output_type": "stream",
     "text": [
      "[[1 2 3]\n",
      " [2 3 4]]\n"
     ]
    }
   ],
   "source": [
    "# ndim：维度\n",
    "# shape：行数和列数\n",
    "# size：元素个数\n",
    "array = np.array([[1,2,3],[2,3,4]])  #列表转化为矩阵\n",
    "print(array)"
   ]
  },
  {
   "cell_type": "code",
   "execution_count": 10,
   "metadata": {},
   "outputs": [
    {
     "name": "stdout",
     "output_type": "stream",
     "text": [
      "(2, 3)\n",
      "6\n",
      "2\n"
     ]
    }
   ],
   "source": [
    "print(array.shape)\n",
    "print(array.size)\n",
    "print(array.ndim)"
   ]
  },
  {
   "cell_type": "code",
   "execution_count": 17,
   "metadata": {},
   "outputs": [
    {
     "name": "stdout",
     "output_type": "stream",
     "text": [
      "[[0. 0. 0. 0.]\n",
      " [0. 0. 0. 0.]\n",
      " [0. 0. 0. 0.]]\n",
      "[ 1.          1.47368421  1.94736842  2.42105263  2.89473684  3.36842105\n",
      "  3.84210526  4.31578947  4.78947368  5.26315789  5.73684211  6.21052632\n",
      "  6.68421053  7.15789474  7.63157895  8.10526316  8.57894737  9.05263158\n",
      "  9.52631579 10.        ]\n",
      "arramge [0 1 2 3 4]\n"
     ]
    }
   ],
   "source": [
    "# array：创建数组\n",
    "# dtype：指定数据类型\n",
    "# zeros：创建数据全为0\n",
    "# ones：创建数据全为1\n",
    "# empty：创建数据接近0\n",
    "# arange：按指定范围创建数据\n",
    "# linspace：创建线段\n",
    "a = np.zeros((3,4)) # 数据全为0，3行4列\n",
    "print(a)\n",
    "b = np.linspace(1,10,20)    # 开始端1，结束端10，且分割成20个数据，生成线段\n",
    "print(b)\n",
    "c=np.arange(5)\n",
    "print(\"arange\",c)"
   ]
  },
  {
   "cell_type": "code",
   "execution_count": 20,
   "metadata": {},
   "outputs": [
    {
     "name": "stdout",
     "output_type": "stream",
     "text": [
      "[10 19 28 37]\n",
      "[10 21 32 43]\n",
      "[0 1 4 9]\n"
     ]
    }
   ],
   "source": [
    "#矩阵计算 + - * \n",
    "a=np.array([10,20,30,40])   # array([10, 20, 30, 40])\n",
    "b=np.arange(4)     # array([0, 1, 2, 3])\n",
    "c=a-b\n",
    "print(c)\n",
    "d=a+b\n",
    "print(d)\n",
    "e=b**2 #乘方\n",
    "print(e)"
   ]
  },
  {
   "cell_type": "code",
   "execution_count": 24,
   "metadata": {},
   "outputs": [
    {
     "name": "stdout",
     "output_type": "stream",
     "text": [
      "[[0 1]\n",
      " [2 3]]\n"
     ]
    }
   ],
   "source": [
    "#reshape 重构矩阵\n",
    "b=np.arange(4).reshape((2,2))\n",
    "print(b)"
   ]
  },
  {
   "cell_type": "code",
   "execution_count": 22,
   "metadata": {},
   "outputs": [
    {
     "name": "stdout",
     "output_type": "stream",
     "text": [
      "[[0.83623771 0.36915694 0.9073825  0.03908433]\n",
      " [0.17471848 0.12545419 0.37237404 0.49936002]]\n",
      "a = [[0.83623771 0.36915694 0.9073825  0.03908433]\n",
      " [0.17471848 0.12545419 0.37237404 0.49936002]]\n",
      "sum = [2.15186149 1.17190673]\n",
      "min = [0.17471848 0.12545419 0.37237404 0.03908433]\n",
      "max = [0.9073825  0.49936002]\n"
     ]
    }
   ],
   "source": [
    "import numpy as np\n",
    "a=np.random.random((2,4))\n",
    "print(a)\n",
    "# array([[ 0.94692159,  0.20821798,  0.35339414,  0.2805278 ],\n",
    "#       [ 0.04836775,  0.04023552,  0.44091941,  0.21665268]])\n",
    "print(\"a =\",a)\n",
    "# a = [[ 0.23651224  0.41900661  0.84869417  0.46456022]\n",
    "# [ 0.60771087  0.9043845   0.36603285  0.55746074]]\n",
    "\n",
    "print(\"sum =\",np.sum(a,axis=1))\n",
    "# sum = [ 1.96877324  2.43558896]\n",
    "\n",
    "print(\"min =\",np.min(a,axis=0))\n",
    "# min = [ 0.23651224  0.41900661  0.36603285  0.46456022]\n",
    "\n",
    "print(\"max =\",np.max(a,axis=1))\n",
    "# max = [ 0.84869417  0.9043845 ]"
   ]
  },
  {
   "cell_type": "code",
   "execution_count": 29,
   "metadata": {},
   "outputs": [
    {
     "name": "stdout",
     "output_type": "stream",
     "text": [
      "0\n",
      "11\n"
     ]
    }
   ],
   "source": [
    "#argmin() 和 argmax() 两个函数分别对应着求矩阵中最小元素和最大元素的索引。\n",
    "import numpy as np\n",
    "A = np.arange(2,14).reshape((3,4)) \n",
    "# array([[ 2, 3, 4, 5]\n",
    "#        [ 6, 7, 8, 9]\n",
    "#        [10,11,12,13]])\n",
    "print(np.argmin(A))    # 0\n",
    "print(np.argmax(A))    # 11"
   ]
  },
  {
   "cell_type": "code",
   "execution_count": 31,
   "metadata": {},
   "outputs": [
    {
     "name": "stdout",
     "output_type": "stream",
     "text": [
      "7.5\n",
      "7.5\n"
     ]
    }
   ],
   "source": [
    "print(np.mean(A))        # 均值\n",
    "print(np.median(A))       # 中位数"
   ]
  },
  {
   "cell_type": "code",
   "execution_count": 32,
   "metadata": {},
   "outputs": [
    {
     "name": "stdout",
     "output_type": "stream",
     "text": [
      "6\n"
     ]
    }
   ],
   "source": [
    "#索引\n",
    "A = np.arange(3,15)\n",
    "\n",
    "# array([3, 4, 5, 6, 7, 8, 9, 10, 11, 12, 13, 14])\n",
    "         \n",
    "print(A[3])    # 6"
   ]
  },
  {
   "cell_type": "code",
   "execution_count": 35,
   "metadata": {},
   "outputs": [
    {
     "name": "stdout",
     "output_type": "stream",
     "text": [
      "[11 12 13 14]\n",
      "8\n",
      "[8 9]\n"
     ]
    }
   ],
   "source": [
    "A = np.arange(3,15).reshape((3,4))\n",
    "\"\"\"\n",
    "array([[ 3,  4,  5,  6]\n",
    "       [ 7,  8,  9, 10]\n",
    "       [11, 12, 13, 14]])\n",
    "\"\"\"\n",
    "         \n",
    "print(A[2])        #矩阵A中第三行(从0开始算第一行)的所有元素 \n",
    "# [11 12 13 14]\n",
    "print(A[1][1])      # 8\n",
    "print(A[1, 1:3])    # [8 9]"
   ]
  },
  {
   "cell_type": "code",
   "execution_count": 36,
   "metadata": {},
   "outputs": [
    {
     "name": "stdout",
     "output_type": "stream",
     "text": [
      "[3 4 5 6]\n",
      "[ 7  8  9 10]\n",
      "[11 12 13 14]\n"
     ]
    },
    {
     "data": {
      "text/plain": [
       "'    \\n[ 3,  4,  5, 6]\\n[ 7,  8,  9, 10]\\n[11, 12, 13, 14]\\n'"
      ]
     },
     "execution_count": 36,
     "metadata": {},
     "output_type": "execute_result"
    }
   ],
   "source": [
    "#切片输出\n",
    "for row in A:\n",
    "    print(row)"
   ]
  },
  {
   "cell_type": "code",
   "execution_count": 37,
   "metadata": {},
   "outputs": [
    {
     "name": "stdout",
     "output_type": "stream",
     "text": [
      "[ 3  7 11]\n",
      "[ 4  8 12]\n",
      "[ 5  9 13]\n",
      "[ 6 10 14]\n"
     ]
    }
   ],
   "source": [
    "#逐列打印\n",
    "for column in A.T:\n",
    "    print(column)"
   ]
  },
  {
   "cell_type": "code",
   "execution_count": 39,
   "metadata": {},
   "outputs": [
    {
     "name": "stdout",
     "output_type": "stream",
     "text": [
      "[[1 1 1]\n",
      " [2 2 2]]\n",
      "[1 1 1 2 2 2]\n"
     ]
    }
   ],
   "source": [
    "A = np.array([1,1,1])\n",
    "B = np.array([2,2,2])\n",
    "         \n",
    "print(np.vstack((A,B)))    # vertical stack本身属于一种上下合并，即对括号中的两个整体进行对应操作\n",
    "D = np.hstack((A,B))       # horizontal stack D本身来源于A，B两个数列的左右合并，而且新生成的D\n",
    "\n",
    "print(D) \n",
    "# [1,1,1,2,2,2]"
   ]
  },
  {
   "cell_type": "code",
   "execution_count": 40,
   "metadata": {},
   "outputs": [
    {
     "name": "stdout",
     "output_type": "stream",
     "text": [
      "[[ 0  1  2  3]\n",
      " [ 4  5  6  7]\n",
      " [ 8  9 10 11]]\n"
     ]
    },
    {
     "data": {
      "text/plain": [
       "'\\narray([[ 0,  1,  2,  3],\\n    [ 4,  5,  6,  7],\\n    [ 8,  9, 10, 11]])\\n'"
      ]
     },
     "execution_count": 40,
     "metadata": {},
     "output_type": "execute_result"
    }
   ],
   "source": [
    "A = np.arange(12).reshape((3, 4))\n",
    "print(A)\n",
    "\"\"\"\n",
    "array([[ 0,  1,  2,  3],\n",
    "    [ 4,  5,  6,  7],\n",
    "    [ 8,  9, 10, 11]])\n",
    "\"\"\""
   ]
  },
  {
   "cell_type": "code",
   "execution_count": 43,
   "metadata": {},
   "outputs": [
    {
     "name": "stdout",
     "output_type": "stream",
     "text": [
      "[array([[0, 1],\n",
      "       [4, 5],\n",
      "       [8, 9]]), array([[ 2,  3],\n",
      "       [ 6,  7],\n",
      "       [10, 11]])]\n",
      "[array([[0, 1, 2, 3]]), array([[4, 5, 6, 7]]), array([[ 8,  9, 10, 11]])]\n",
      "[array([[0, 1],\n",
      "       [4, 5],\n",
      "       [8, 9]]), array([[ 2],\n",
      "       [ 6],\n",
      "       [10]]), array([[ 3],\n",
      "       [ 7],\n",
      "       [11]])]\n"
     ]
    }
   ],
   "source": [
    "#纵向分割\n",
    "print(np.split(A, 2, axis=1))\n",
    "#横向分割\n",
    "print(np.split(A, 3, axis=0))\n",
    "#不等量分割\n",
    "print(np.array_split(A, 3, axis=1)) # # 沿轴1将数组分成3个子数组 axis: 指定要分割的轴。默认值为 0。"
   ]
  },
  {
   "cell_type": "code",
   "execution_count": null,
   "metadata": {},
   "outputs": [],
   "source": []
  }
 ],
 "metadata": {
  "kernelspec": {
   "display_name": "base",
   "language": "python",
   "name": "python3"
  },
  "language_info": {
   "codemirror_mode": {
    "name": "ipython",
    "version": 3
   },
   "file_extension": ".py",
   "mimetype": "text/x-python",
   "name": "python",
   "nbconvert_exporter": "python",
   "pygments_lexer": "ipython3",
   "version": "3.11.7"
  }
 },
 "nbformat": 4,
 "nbformat_minor": 2
}
