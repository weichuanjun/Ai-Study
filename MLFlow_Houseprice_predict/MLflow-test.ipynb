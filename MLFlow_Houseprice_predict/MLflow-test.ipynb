{
 "cells": [
  {
   "cell_type": "code",
   "execution_count": null,
   "metadata": {},
   "outputs": [],
   "source": [
    "import matplotlib.pyplot as plt\n",
    "import pandas as pd\n",
    "import numpy as np\n",
    "import mlflow\n",
    "import mlflow.sklearn\n",
    "from sklearn.model_selection import train_test_split, GridSearchCV\n",
    "from sklearn.preprocessing import StandardScaler\n",
    "from sklearn.linear_model import LinearRegression, Ridge, Lasso # type: ignore\n",
    "from sklearn.svm import SVR # type: ignore\n",
    "from sklearn.ensemble import RandomForestRegressor # type: ignore\n",
    "from sklearn.metrics import mean_squared_error, r2_score # type: ignore"
   ]
  },
  {
   "cell_type": "code",
   "execution_count": null,
   "metadata": {},
   "outputs": [],
   "source": [
    "#mlflow.create_experiment(\"Boston-HousePrice-predict\")"
   ]
  },
  {
   "cell_type": "code",
   "execution_count": null,
   "metadata": {},
   "outputs": [],
   "source": [
    "def load_data(filepath):\n",
    "    \"\"\"加载并初步处理数据。\"\"\"\n",
    "    data = pd.read_csv(filepath, encoding='utf-8')\n",
    "    data.rename(columns=lambda x: x.strip(), inplace=True)\n",
    "    return data\n",
    "\n",
    "def clean_data(data):\n",
    "    \"\"\"清洗数据，包括处理缺失值和异常值。\"\"\"\n",
    "    data.fillna(data.median(), inplace=True)\n",
    "    for col in data.columns:\n",
    "        Q1 = data[col].quantile(0.25)\n",
    "        Q3 = data[col].quantile(0.75)\n",
    "        IQR = Q3 - Q1\n",
    "        data = data[(data[col] >= Q1 - 1.5 * IQR) & (data[col] <= Q3 + 1.5 * IQR)]\n",
    "    return data\n",
    "\n",
    "def train_models(X, y):\n",
    "    \"\"\"训练多个模型并返回最佳参数和模型。\"\"\"\n",
    "    models = {\n",
    "        'LinearRegression': LinearRegression(),\n",
    "        'Ridge': Ridge(),\n",
    "        'Lasso': Lasso(),\n",
    "        'SVR': SVR(),\n",
    "        'RandomForest': RandomForestRegressor()\n",
    "    }\n",
    "    params = {\n",
    "        'LinearRegression': {'fit_intercept': [True, False], 'copy_X': [True, False], 'n_jobs': [None, -1]},\n",
    "        'Ridge': {'alpha': [0.1, 1.0, 10.0]},\n",
    "        'Lasso': {'alpha': [0.1, 0.5, 1.0]},\n",
    "        'SVR': {'C': [0.1, 1.0, 10.0], 'kernel': ['linear', 'poly', 'rbf']},\n",
    "        'RandomForest': {'n_estimators': [50, 100, 200], 'max_depth': [None, 10, 20]}\n",
    "    }\n",
    "    best_estimators = {}\n",
    "    for name, model in models.items():\n",
    "            grid = GridSearchCV(model, params[name], cv=10, scoring='neg_mean_squared_error')\n",
    "            grid.fit(X, y)\n",
    "            best_estimators[name] = grid.best_estimator_\n",
    "            # mlflow.log_params(grid.best_params_)\n",
    "            # mlflow.sklearn.log_model(grid.best_estimator_, name)\n",
    "    return best_estimators\n",
    "\n",
    "def evaluate_models(models, X_test, y_test):\n",
    "    \"\"\"评估模型。\"\"\"\n",
    "    results = {}\n",
    "    for name, model in models.items():\n",
    "        with mlflow.start_run(run_name=f\"{name}_evaluation\",experiment_id = f\"593623705617405727\",nested=True):\n",
    "            y_pred = model.predict(X_test)\n",
    "            mse = mean_squared_error(y_test, y_pred)\n",
    "            r2 = r2_score(y_test, y_pred)\n",
    "            results[name] = {'MSE': mse, 'R2': r2}\n",
    "            mlflow.log_metric('MSE', mse)\n",
    "            mlflow.log_metric('R2', r2)\n",
    "            mlflow.sklearn.log_model(model,artifact_path=\"model\")\n",
    "            mlflow.log_params(model)\n",
    "    return results"
   ]
  },
  {
   "cell_type": "code",
   "execution_count": null,
   "metadata": {},
   "outputs": [],
   "source": [
    "def main():\n",
    "    data = load_data('Boston Housing.csv')\n",
    "    data_cleaned = clean_data(data)\n",
    "\n",
    "    X = data_cleaned.drop('medv', axis=1)\n",
    "    y = data_cleaned['medv']\n",
    "    X_train, X_test, y_train, y_test = train_test_split(X, y, test_size=0.2, random_state=42)\n",
    "\n",
    "    scaler = StandardScaler()\n",
    "    X_train_scaled = scaler.fit_transform(X_train)\n",
    "    X_test_scaled = scaler.transform(X_test)\n",
    "\n",
    "    models = train_models(X_train_scaled, y_train)\n",
    "    print(\"the best parameter:\",models)\n",
    "    \n",
    "    results = evaluate_models(models, X_test_scaled, y_test)\n",
    "    for model, metrics in results.items():\n",
    "        print(f\"{model}: MSE = {metrics['MSE']}, R2 = {metrics['R2']}\")\n",
    "\n",
    "if __name__ == \"__main__\":\n",
    "    main()"
   ]
  },
  {
   "cell_type": "code",
   "execution_count": null,
   "metadata": {},
   "outputs": [],
   "source": []
  }
 ],
 "metadata": {
  "kernelspec": {
   "display_name": "base",
   "language": "python",
   "name": "python3"
  },
  "language_info": {
   "codemirror_mode": {
    "name": "ipython",
    "version": 3
   },
   "file_extension": ".py",
   "mimetype": "text/x-python",
   "name": "python",
   "nbconvert_exporter": "python",
   "pygments_lexer": "ipython3",
   "version": "3.11.5"
  }
 },
 "nbformat": 4,
 "nbformat_minor": 2
}
