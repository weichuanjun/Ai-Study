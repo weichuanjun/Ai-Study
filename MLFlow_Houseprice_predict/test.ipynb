{
 "cells": [
  {
   "cell_type": "code",
   "execution_count": null,
   "metadata": {},
   "outputs": [],
   "source": [
    "import numpy as np\n",
    "from sklearn.linear_model import LogisticRegression\n",
    "import mlflow\n",
    "import mlflow.sklearn\n",
    "import pandas as pd\n",
    "import numpy as np\n",
    "from sklearn import metrics\n",
    "import matplotlib.pyplot as plt\n",
    "import seaborn as sns\n",
    "from sklearn.preprocessing import MinMaxScaler\n",
    "from sklearn.model_selection import train_test_split\n",
    "from sklearn import linear_model\n",
    "from sklearn.metrics import mean_squared_error\n",
    "from sklearn.linear_model import LinearRegression\n",
    "from sklearn.tree import DecisionTreeRegressor\n",
    "from sklearn.ensemble import RandomForestRegressor\n",
    "\n",
    "from tools import clean_data,load_data,visualize_data\n"
   ]
  },
  {
   "cell_type": "code",
   "execution_count": null,
   "metadata": {},
   "outputs": [],
   "source": [
    "#新建一个experiment\n",
    "mlflow.create_experiment(\"Boston-HousePrice-predict\")"
   ]
  },
  {
   "cell_type": "code",
   "execution_count": null,
   "metadata": {},
   "outputs": [],
   "source": [
    "#设定当前experment\n",
    "mlflow.set_experiment(\"Boston-HousePrice-predict\")"
   ]
  },
  {
   "cell_type": "markdown",
   "metadata": {},
   "source": [
    "数据预处理"
   ]
  },
  {
   "cell_type": "code",
   "execution_count": null,
   "metadata": {},
   "outputs": [],
   "source": [
    "#read csv\n",
    "df = pd.read_csv(\"Boston Housing.csv\")\n",
    "X = df.drop('medv', axis=1)\n",
    "y = df['medv']\n",
    "#clean data\n",
    "x_cleaned = clean_data(X)\n",
    "#scaler the data\n",
    "scaler = MinMaxScaler()\n",
    "X_normalized = scaler.fit_transform(x_cleaned)\n",
    "#set train ,test data set\n",
    "X_train, X_test, y_train, y_test = train_test_split(X_normalized, y, random_state=1)\n",
    "#scale the data \n",
    "X_train_scaled = scaler.fit_transform(X_train)\n",
    "X_test_scaled = scaler.fit_transform(X_test)"
   ]
  },
  {
   "cell_type": "markdown",
   "metadata": {},
   "source": [
    "运行MLflow"
   ]
  },
  {
   "cell_type": "code",
   "execution_count": null,
   "metadata": {},
   "outputs": [],
   "source": [
    "# 定义模型评估函数 MSE\n",
    "def eval_metrics(actual, pred):\n",
    "    rmse = mean_squared_error(actual, pred, squared=False)\n",
    "    return rmse\n",
    "    \n",
    "# 训练和评估模型\n",
    "def train_and_log_model(model, model_name, name):\n",
    "    try:\n",
    "        with mlflow.start_run(run_name = name):\n",
    "            model.fit(X_train_scaled, y_train)\n",
    "            y_pred = model.predict(X_test_scaled)\n",
    "            rmse = eval_metrics(y_test, y_pred)\n",
    "            train_score = model.score(X_train_scaled,y_train)\n",
    "            test_score = model.score(X_test_scaled,y_test)\n",
    "            \n",
    "            # 记录参数和指标\n",
    "            mlflow.log_param(\"model\", model_name)\n",
    "            mlflow.log_metric(\"rmse\", rmse)\n",
    "            mlflow.log_metric(\"train_score\",train_score)\n",
    "            mlflow.log_metric(\"test_score\",test_score)\n",
    "            \n",
    "            # 记录模型\n",
    "            mlflow.sklearn.log_model(model, model_name)\n",
    "            print(f\"{model_name} RMSE: {rmse}\")\n",
    "            print(f\"{model_name} trainscore: {train_score}\")\n",
    "            print(f\"{model_name} testscore: {test_score}\")\n",
    "            \n",
    "    finally:\n",
    "        mlflow.end_run()"
   ]
  },
  {
   "cell_type": "code",
   "execution_count": null,
   "metadata": {},
   "outputs": [],
   "source": [
    "lr = LinearRegression()\n",
    "train_and_log_model(lr, \"LinearRegression\",\"LinearRegression\")\n",
    "dt = DecisionTreeRegressor()\n",
    "train_and_log_model(dt, \"DecisionTreeRegressor\",\"DecisionTreeRegressor\")\n",
    "\n",
    "# 随机森林\n",
    "rf = RandomForestRegressor()\n",
    "train_and_log_model(rf, \"RandomForestRegressor\",\"RandomForestRegressor\")"
   ]
  },
  {
   "cell_type": "code",
   "execution_count": null,
   "metadata": {},
   "outputs": [],
   "source": []
  }
 ],
 "metadata": {
  "kernelspec": {
   "display_name": "base",
   "language": "python",
   "name": "python3"
  },
  "language_info": {
   "codemirror_mode": {
    "name": "ipython",
    "version": 3
   },
   "file_extension": ".py",
   "mimetype": "text/x-python",
   "name": "python",
   "nbconvert_exporter": "python",
   "pygments_lexer": "ipython3",
   "version": "3.11.5"
  }
 },
 "nbformat": 4,
 "nbformat_minor": 2
}
