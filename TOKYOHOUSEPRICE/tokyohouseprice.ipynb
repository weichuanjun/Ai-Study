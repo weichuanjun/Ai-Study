{
 "cells": [
  {
   "cell_type": "code",
   "execution_count": null,
   "metadata": {},
   "outputs": [],
   "source": [
    "import pandas as pd\n",
    "import chardet\n",
    "\n",
    "# # 检测文件编码\n",
    "# with open('./DataSet/Tokyo_20131_20234.csv', 'rb') as f:\n",
    "#     result = chardet.detect(f.read())\n",
    "#     encoding = result['encoding']\n",
    "#     print(f\"Detected encoding: {encoding}\")\n",
    "\n",
    "# 使用检测到的编码读取文件\n",
    "df = pd.read_csv('../DataSet/Tokyo house price.csv', encoding=\"cp932\")"
   ]
  },
  {
   "cell_type": "code",
   "execution_count": null,
   "metadata": {},
   "outputs": [],
   "source": [
    "df.head()"
   ]
  },
  {
   "cell_type": "code",
   "execution_count": null,
   "metadata": {},
   "outputs": [],
   "source": [
    "# 列名列表\n",
    "columns = ['種類', '価格情報区分', '地域', '市区町村コード', '都道府県名', '市区町村名', '地区名', '最寄駅：名称','最寄駅：距離（分）', '取引価格（総額）', '坪単価', '面積（㎡）', '取引価格（㎡単価）', '土地の形状', '間口','延床面積（㎡）', '建築年', '建物の構造', '用途', '今後の利用目的', '前面道路：方位', '前面道路：種類','前面道路：幅員（ｍ）', '都市計画', '建ぺい率（％）', '容積率（％）', '取引時期', '取引の事情等']\n",
    "\n",
    "# 打印每一列的唯一值和唯一值的数量\n",
    "for column in columns:\n",
    "    unique_values = df[column].unique()\n",
    "    unique_count = df[column].nunique()\n",
    "    print(f\"{column}: 有 {unique_count} 个唯一值。\")\n",
    "    print(f\"这些唯一值是: {unique_values}\")\n",
    "    print()"
   ]
  },
  {
   "cell_type": "code",
   "execution_count": null,
   "metadata": {},
   "outputs": [],
   "source": [
    "print(df.info)"
   ]
  },
  {
   "cell_type": "code",
   "execution_count": null,
   "metadata": {},
   "outputs": [],
   "source": [
    "df.head()"
   ]
  },
  {
   "cell_type": "code",
   "execution_count": null,
   "metadata": {},
   "outputs": [],
   "source": [
    "# 筛选出'取引時期'列中包含2018年至2023年的数据\n",
    "df['取引時期'] = df['取引時期'].astype(str)\n",
    "filtered_df = df[df['取引時期'].str.contains(r'202[0-3]|201[8-9]', regex=True)]\n",
    "filtered_df = filtered_df .query('種類 == \"宅地(土地と建物)\"')\n",
    "filtered_df = filtered_df .query('種類 == \"宅地(土地と建物)\"')\n",
    "filtered_df = filtered_df .query('今後の利用目的 == \"住宅\"')"
   ]
  },
  {
   "cell_type": "code",
   "execution_count": null,
   "metadata": {},
   "outputs": [],
   "source": [
    "selected_columns = ['最寄駅：距離（分）', '取引価格（総額）', '面積（㎡）','建築年', '建物の構造','地区名']\n",
    "selected_df = df[selected_columns]"
   ]
  },
  {
   "cell_type": "code",
   "execution_count": null,
   "metadata": {},
   "outputs": [],
   "source": [
    "selected_df.head()"
   ]
  },
  {
   "cell_type": "code",
   "execution_count": null,
   "metadata": {},
   "outputs": [],
   "source": [
    "from sklearn.preprocessing import LabelEncoder\n",
    "# 确保列为字符串类型\n",
    "for column in [ '建物の構造']:\n",
    "    df[column] = selected_df[column].astype(str)\n",
    "\n",
    "# 创建LabelEncoder对象\n",
    "label_encoder = LabelEncoder()\n",
    "\n",
    "# 对每个object列进行标签编码\n",
    "for column in [ '建物の構造']:\n",
    "    selected_df[column] = label_encoder.fit_transform(selected_df[column])\n",
    "\n",
    "print(df)"
   ]
  },
  {
   "cell_type": "code",
   "execution_count": null,
   "metadata": {},
   "outputs": [],
   "source": [
    "selected_df = selected_df.dropna()\n",
    "#astype(int)"
   ]
  },
  {
   "cell_type": "code",
   "execution_count": null,
   "metadata": {},
   "outputs": [],
   "source": [
    "# 提取建筑年份的年份部分并转换为整数\n",
    "selected_df['建築年'] = selected_df['建築年'].str.extract('(\\d+)')\n",
    "selected_df = selected_df.dropna()\n",
    "selected_df['建築年'] = selected_df['建築年'].astype(int)\n",
    "# selected_df['建築年'] = selected_df['建築年'].astype(int)\n",
    "# selected_df['建筑年限'] = 2024 - selected_df['建築年']"
   ]
  },
  {
   "cell_type": "code",
   "execution_count": null,
   "metadata": {},
   "outputs": [],
   "source": [
    "selected_df.info()\n"
   ]
  },
  {
   "cell_type": "code",
   "execution_count": null,
   "metadata": {},
   "outputs": [],
   "source": [
    "selected_df.to_csv('exported_data2.csv', index=False, encoding='utf-8')"
   ]
  },
  {
   "cell_type": "code",
   "execution_count": null,
   "metadata": {},
   "outputs": [],
   "source": [
    "from sklearn.preprocessing import LabelEncoder, OneHotEncoder\n",
    "# 使用OneHotEncoder进行独热编码\n",
    "one_hot_encoder = OneHotEncoder(sparse=False)\n",
    "encoded_features = one_hot_encoder.fit_transform(selected_df[['地区名']])\n",
    "\n",
    "# 获取独热编码后的特征名\n",
    "feature_names = one_hot_encoder.get_feature_names_out(['地区名'])\n",
    "\n",
    "# 将编码后的特征转换为DataFrame\n",
    "encoded_df = pd.DataFrame(encoded_features, columns=feature_names)\n",
    "\n",
    "# 合并原始数据和独热编码后的数据\n",
    "df_onehot = pd.concat([selected_df, encoded_df], axis=1)"
   ]
  },
  {
   "cell_type": "code",
   "execution_count": null,
   "metadata": {},
   "outputs": [],
   "source": []
  }
 ],
 "metadata": {
  "kernelspec": {
   "display_name": "base",
   "language": "python",
   "name": "python3"
  },
  "language_info": {
   "codemirror_mode": {
    "name": "ipython",
    "version": 3
   },
   "file_extension": ".py",
   "mimetype": "text/x-python",
   "name": "python",
   "nbconvert_exporter": "python",
   "pygments_lexer": "ipython3",
   "version": "3.11.5"
  }
 },
 "nbformat": 4,
 "nbformat_minor": 2
}
