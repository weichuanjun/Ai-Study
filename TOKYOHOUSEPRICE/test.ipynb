{
 "cells": [
  {
   "cell_type": "code",
   "execution_count": null,
   "metadata": {},
   "outputs": [],
   "source": [
    "import pandas as pd\n",
    "import numpy as np\n",
    "from sklearn.model_selection import train_test_split\n",
    "from sklearn.preprocessing import LabelEncoder, StandardScaler\n",
    "from tensorflow.keras.models import Sequential\n",
    "from tensorflow.keras.layers import Dense, Dropout\n",
    "from tensorflow.keras.utils import to_categorical"
   ]
  },
  {
   "cell_type": "code",
   "execution_count": null,
   "metadata": {},
   "outputs": [],
   "source": [
    "data = {\n",
    "    '最寄駅：名称': ['飯田橋', '九段下', '飯田橋', '半蔵門', '飯田橋'],\n",
    "    '最寄駅：距離（分）': [4, 1, 2, 2, 1],\n",
    "    '取引価格（総額）': [340000000, 890000000, 880000000, 400000000, 180000000],\n",
    "    '建築年': ['2007年', '2008年', '1973年', '2018年', '1976年'],\n",
    "    '面積（㎡）': [100, 420, 450, 110, 50],\n",
    "    '地区名': ['飯田橋', '九段下', '飯田橋', '九段下', '飯田橋'],\n",
    "    '建物の構造': ['ＲＣ', 'ＲＣ', 'ＳＲＣ', '鉄骨造', 'ＲＣ']\n",
    "}\n",
    "\n",
    "df = pd.DataFrame(data)"
   ]
  },
  {
   "cell_type": "code",
   "execution_count": null,
   "metadata": {},
   "outputs": [],
   "source": [
    "# 对类别特征进行编码\n",
    "label_encoders = {}\n",
    "for column in ['最寄駅：名称', '建築年', '地区名', '建物の構造']:\n",
    "    le = LabelEncoder()\n",
    "    df[column] = le.fit_transform(df[column])\n",
    "    label_encoders[column] = le\n",
    "\n",
    "# 标准化数值特征\n",
    "scaler = StandardScaler()\n",
    "df[['最寄駅：距離（分）', '面積（㎡）']] = scaler.fit_transform(df[['最寄駅：距離（分）', '面積（㎡）']])\n",
    "\n",
    "# 特征和标签\n",
    "X = df.drop('取引価格（総額）', axis=1)\n",
    "y = df['取引価格（総額）']"
   ]
  },
  {
   "cell_type": "code",
   "execution_count": null,
   "metadata": {},
   "outputs": [],
   "source": [
    "import pandas as pd\n",
    "import numpy as np\n",
    "from tensorflow.keras.models import Sequential\n",
    "from tensorflow.keras.layers import Dense, Dropout\n",
    "from sklearn.model_selection import train_test_split\n",
    "from sklearn.preprocessing import StandardScaler\n",
    "\n",
    "# 假设 X_train 是一个 DataFrame，包含多个样本和特征\n",
    "data = {\n",
    "    '最寄駅：距離（分）': [422, 21, 552, 424, 105],\n",
    "    '建築年': [13.0, 6.0, 28.0, 10.0, 15.0],\n",
    "    '面積（㎡）': [2020.0, 2019.0, 2004.0, 1994.0, 2019.0],\n",
    "    '地区名': [55.0, 100.0, 125.0, 115.0, 165.0],\n",
    "    '建物の構造': [684, 40, 472, 1000, 1247],\n",
    "    '種類': [1, 1, 1, 4, 4]  # 假设这是你的目标变量\n",
    "}\n",
    "\n",
    "X_train = pd.DataFrame(data)\n",
    "\n",
    "# 假设 y_train 是目标变量（取引価格（総額））的值，这里只是示例数据\n",
    "y_train = np.array([153011, 90933, 213626, 56776, 195630])\n",
    "\n",
    "# 对特征进行标准化处理，可选但通常有助于模型训练\n",
    "scaler = StandardScaler()\n",
    "X_train_scaled = scaler.fit_transform(X_train)\n",
    "\n",
    "# 创建 Sequential 模型\n",
    "model = Sequential()\n",
    "\n",
    "# 添加输入层和隐藏层\n",
    "model.add(Dense(128, input_dim=X_train_scaled.shape[1], activation='relu'))\n",
    "model.add(Dropout(0.5))  # 添加 dropout 防止过拟合\n",
    "\n",
    "# 添加更多隐藏层\n",
    "model.add(Dense(64, activation='relu'))\n",
    "model.add(Dropout(0.5))\n",
    "\n",
    "# 添加输出层\n",
    "model.add(Dense(1))  # 回归任务通常使用线性激活函数，不需要额外的激活层\n",
    "\n",
    "# 编译模型\n",
    "model.compile(loss='mean_squared_error', optimizer='adam', metrics=['mse'])\n",
    "\n",
    "# 训练模型\n",
    "model.fit(X_train_scaled, y_train, epochs=50, batch_size=10, validation_split=0.2)\n",
    "\n",
    "# 模型评估\n",
    "loss, mse = model.evaluate(X_train_scaled, y_train)\n",
    "print(f'Training Loss: {loss:.4f}, Training MSE: {mse:.4f}')\n",
    "\n",
    "# 进行预测\n",
    "# 假设有新的数据 X_test 需要预测，可以使用 model.predict() 方法\n",
    "# predictions = model.predict(X_test)"
   ]
  },
  {
   "cell_type": "code",
   "execution_count": null,
   "metadata": {},
   "outputs": [],
   "source": [
    "import pandas as pd\n",
    "from sklearn.preprocessing import LabelEncoder\n",
    "\n",
    "# 示例数据\n",
    "data = {\n",
    "    '最寄駅：名称': ['A駅', 'B駅', 'C駅', 'A駅', 'B駅'],\n",
    "    '地区名': ['地区1', '地区2', '地区3', '地区1', '地区2'],\n",
    "    '建物の構造': ['構造1', '構造2', '構造3', '構造1', '構造2']\n",
    "}\n",
    "\n",
    "df = pd.DataFrame(data)\n",
    "\n",
    "# 确保列为字符串类型\n",
    "for column in ['最寄駅：名称', '地区名', '建物の構造']:\n",
    "    df[column] = df[column].astype(str)\n",
    "\n",
    "# 创建LabelEncoder对象\n",
    "label_encoder = LabelEncoder()\n",
    "\n",
    "# 对每个object列进行标签编码\n",
    "for column in ['最寄駅：名称', '地区名', '建物の構造']:\n",
    "    df[column] = label_encoder.fit_transform(df[column])\n",
    "\n",
    "# 或者使用独热编码\n",
    "df = pd.get_dummies(df, columns=[ '地区名', '建物の構造'])\n",
    "\n",
    "# 显示处理后的数据\n",
    "print(df)"
   ]
  },
  {
   "cell_type": "code",
   "execution_count": null,
   "metadata": {},
   "outputs": [],
   "source": [
    "import pandas as pd\n",
    "from sklearn.preprocessing import LabelEncoder\n",
    "\n",
    "# 示例数据\n",
    "data = {\n",
    "    '最寄駅：名称': ['A駅', 'B駅', 'C駅', 'A駅', 'B駅'],\n",
    "    '地区名': ['地区1', '地区2', '地区3', '地区1', '地区2'],\n",
    "    '建物の構造': ['構造1', '構造2', '構造3', '構造1', '構造2']\n",
    "}\n",
    "\n",
    "df = pd.DataFrame(data)\n",
    "\n",
    "# 确保列为字符串类型\n",
    "for column in ['最寄駅：名称', '地区名', '建物の構造']:\n",
    "    df[column] = df[column].astype(str)\n",
    "\n",
    "# 创建LabelEncoder对象\n",
    "label_encoder = LabelEncoder()\n",
    "\n",
    "# 对每个object列进行标签编码\n",
    "for column in ['最寄駅：名称', '地区名', '建物の構造']:\n",
    "    df[column] = label_encoder.fit_transform(df[column])\n",
    "\n",
    "print(df)"
   ]
  },
  {
   "cell_type": "code",
   "execution_count": null,
   "metadata": {},
   "outputs": [],
   "source": [
    "# 将 DataFrame 导出为 CSV 文件\n",
    "df.to_csv('exported_data.csv', index=False, encoding='utf-8')\n",
    "\n",
    "print(\"DataFrame 已导出为 CSV 文件\")"
   ]
  },
  {
   "cell_type": "code",
   "execution_count": null,
   "metadata": {},
   "outputs": [],
   "source": [
    "# 删除包含空值的行\n",
    "df_cleaned = df.dropna()\n"
   ]
  },
  {
   "cell_type": "code",
   "execution_count": null,
   "metadata": {},
   "outputs": [],
   "source": [
    "import pandas as pd\n",
    "from sklearn.preprocessing import LabelEncoder, OneHotEncoder\n",
    "\n",
    "# 示例数据\n",
    "data = {\n",
    "    '地区名': ['飯田橋', '渋谷', '新宿', '渋谷', '新宿']\n",
    "}\n",
    "\n",
    "df = pd.DataFrame(data)\n",
    "\n",
    "# 使用LabelEncoder进行标签编码\n",
    "label_encoder = LabelEncoder()\n",
    "df['地区名_LabelEncoded'] = label_encoder.fit_transform(df['地区名'])\n",
    "\n",
    "# 使用OneHotEncoder进行独热编码\n",
    "one_hot_encoder = OneHotEncoder(sparse=False)\n",
    "encoded_features = one_hot_encoder.fit_transform(df[['地区名']])\n",
    "encoded_df = pd.DataFrame(encoded_features, columns=one_hot_encoder.get_feature_names(['地区名']))\n",
    "\n",
    "# 合并原始数据和独热编码后的数据\n",
    "df = pd.concat([df, encoded_df], axis=1)\n",
    "\n",
    "print(\"使用标签编码后的数据：\")\n",
    "print(df[['地区名', '地区名_LabelEncoded']])\n",
    "\n",
    "print(\"\\n使用独热编码后的数据：\")\n",
    "print(df[['地区名'] + list(encoded_df.columns)])"
   ]
  },
  {
   "cell_type": "code",
   "execution_count": 8,
   "metadata": {},
   "outputs": [
    {
     "ename": "KeyError",
     "evalue": "'tokyo'",
     "output_type": "error",
     "traceback": [
      "\u001b[0;31m---------------------------------------------------------------------------\u001b[0m",
      "\u001b[0;31mKeyError\u001b[0m                                  Traceback (most recent call last)",
      "Cell \u001b[0;32mIn[8], line 9\u001b[0m\n\u001b[1;32m      6\u001b[0m     location \u001b[38;5;241m=\u001b[39m geolocator\u001b[38;5;241m.\u001b[39mgeocode(address)\n\u001b[1;32m      7\u001b[0m     \u001b[38;5;28;01mreturn\u001b[39;00m location\u001b[38;5;241m.\u001b[39mlatitude, location\u001b[38;5;241m.\u001b[39mlongitude\n\u001b[0;32m----> 9\u001b[0m data[\u001b[38;5;124m'\u001b[39m\u001b[38;5;124mlatitude\u001b[39m\u001b[38;5;124m'\u001b[39m], data[\u001b[38;5;124m'\u001b[39m\u001b[38;5;124mlongitude\u001b[39m\u001b[38;5;124m'\u001b[39m] \u001b[38;5;241m=\u001b[39m \u001b[38;5;28mzip\u001b[39m(\u001b[38;5;241m*\u001b[39mdata[\u001b[38;5;124m'\u001b[39m\u001b[38;5;124mtokyo\u001b[39m\u001b[38;5;124m'\u001b[39m]\u001b[38;5;241m.\u001b[39mapply(get_lat_long))\n",
      "\u001b[0;31mKeyError\u001b[0m: 'tokyo'"
     ]
    }
   ],
   "source": [
    "import geopy\n",
    "from geopy.geocoders import Nominatim\n",
    "\n",
    "geolocator = Nominatim(user_agent=\"geoapiExercises\")\n",
    "def get_lat_long(address):\n",
    "    location = geolocator.geocode(address)\n",
    "    return location.latitude, location.longitude\n",
    "\n",
    "data['latitude'], data['longitude'] = zip(*data['tokyo'].apply(get_lat_long))"
   ]
  },
  {
   "cell_type": "code",
   "execution_count": 6,
   "metadata": {},
   "outputs": [
    {
     "name": "stdout",
     "output_type": "stream",
     "text": [
      "TensorFlow version: 2.16.1\n",
      "TensorBoard version: 2.16.2\n"
     ]
    }
   ],
   "source": [
    "import tensorflow as tf\n",
    "import tensorboard as tb\n",
    "\n",
    "print(f'TensorFlow version: {tf.__version__}')\n",
    "print(f'TensorBoard version: {tb.__version__}')"
   ]
  },
  {
   "cell_type": "code",
   "execution_count": 11,
   "metadata": {},
   "outputs": [
    {
     "name": "stdout",
     "output_type": "stream",
     "text": [
      "一番町, 千代田区, 東京都, 102-0082, 日本\n",
      "35.68735\n",
      "139.741509\n"
     ]
    }
   ],
   "source": [
    "from geopy.geocoders import Nominatim\n",
    "geolocator = Nominatim(user_agent=\"test\") \n",
    "location = geolocator.geocode(\"(一番町)\") # 検索\n",
    "\n",
    "print(location.address)       #住所\n",
    "print(location.latitude)      #緯度\n",
    "print(location.longitude)     #経度"
   ]
  },
  {
   "cell_type": "code",
   "execution_count": null,
   "metadata": {},
   "outputs": [],
   "source": []
  }
 ],
 "metadata": {
  "kernelspec": {
   "display_name": "base",
   "language": "python",
   "name": "python3"
  },
  "language_info": {
   "codemirror_mode": {
    "name": "ipython",
    "version": 3
   },
   "file_extension": ".py",
   "mimetype": "text/x-python",
   "name": "python",
   "nbconvert_exporter": "python",
   "pygments_lexer": "ipython3",
   "version": "3.11.5"
  }
 },
 "nbformat": 4,
 "nbformat_minor": 2
}
